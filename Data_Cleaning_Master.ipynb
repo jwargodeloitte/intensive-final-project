{
 "cells": [
  {
   "cell_type": "code",
   "execution_count": 1,
   "metadata": {},
   "outputs": [],
   "source": [
    "# importing packages\n",
    "import numpy as np\n",
    "import pandas as pd\n",
    "import sqlite3\n",
    "import scipy.stats as stats\n",
    "import matplotlib.pyplot as plt\n",
    "import seaborn as sns"
   ]
  },
  {
   "cell_type": "code",
   "execution_count": 2,
   "metadata": {},
   "outputs": [],
   "source": [
    "# importing zipped csv data\n",
    "gross = pd.read_csv('Data/bom.movie_gross.csv.gz', compression = 'gzip')\n",
    "info = pd.read_csv('Data/rt.movie_info.tsv.gz', compression = 'gzip', sep='\\t')\n",
    "reviews = pd.read_csv('Data/rt.reviews.tsv.gz', compression = 'gzip', sep='\\t', encoding='unicode-escape')\n",
    "tmdb = pd.read_csv('Data/tmdb.movies.csv.gz', compression = 'gzip')\n",
    "budgets = pd.read_csv('Data/tn.movie_budgets.csv.gz', compression = 'gzip')"
   ]
  },
  {
   "cell_type": "code",
   "execution_count": 3,
   "metadata": {},
   "outputs": [],
   "source": [
    "# importing database file\n",
    "conn = sqlite3.connect('Data/im.db')\n",
    "persons = pd.read_sql(\"\"\"SELECT * FROM persons\"\"\", conn)\n",
    "principals = pd.read_sql(\"\"\"SELECT * FROM principals\"\"\", conn)\n",
    "known_for = pd.read_sql(\"\"\"SELECT * FROM known_for\"\"\", conn)\n",
    "directors = pd.read_sql(\"\"\"SELECT * FROM directors\"\"\", conn)\n",
    "writers = known_for = pd.read_sql(\"\"\"SELECT * FROM writers\"\"\", conn)\n",
    "movie_basics = pd.read_sql(\"\"\"SELECT * FROM movie_basics\"\"\", conn)\n",
    "movie_ratings = pd.read_sql(\"\"\"SELECT * FROM movie_ratings\"\"\", conn)\n",
    "movie_akas = pd.read_sql(\"\"\"SELECT * FROM movie_akas\"\"\", conn)"
   ]
  },
  {
   "cell_type": "markdown",
   "metadata": {},
   "source": [
    "## 2. Cleaning"
   ]
  },
  {
   "cell_type": "markdown",
   "metadata": {},
   "source": [
    "#### Gross"
   ]
  },
  {
   "cell_type": "code",
   "execution_count": 4,
   "metadata": {},
   "outputs": [],
   "source": [
    "# making foreign gross a float\n",
    "gross['foreign_gross'] = gross['foreign_gross'].replace('[,]', '', regex=True).astype('float64')\n",
    "gross['foreign_gross'].fillna(0, inplace=True)"
   ]
  },
  {
   "cell_type": "markdown",
   "metadata": {},
   "source": [
    "#### Info"
   ]
  },
  {
   "cell_type": "code",
   "execution_count": 5,
   "metadata": {},
   "outputs": [],
   "source": [
    "# making dates datetime\n",
    "info['theater_date'] = pd.to_datetime(info['theater_date'])\n",
    "info['dvd_date'] = pd.to_datetime(info['dvd_date'])\n",
    "# dropping currency, it is not needed\n",
    "info.drop('currency',axis=1,inplace=True)\n",
    "\n",
    "# making box_office a float\n",
    "info['box_office'] = info['box_office'].str.replace(',', '')\n",
    "info['box_office'] = info['box_office'].astype('float64')\n",
    "\n",
    "# making runtaime a flaot\n",
    "info['runtime'] = info['runtime'].str.split(' ').str[0]\n",
    "info['runtime'] = info['runtime'].astype('float64')"
   ]
  },
  {
   "cell_type": "markdown",
   "metadata": {},
   "source": [
    "#### Reviews"
   ]
  },
  {
   "cell_type": "code",
   "execution_count": 6,
   "metadata": {},
   "outputs": [],
   "source": [
    "# changing fresh_rotten into a boolean\n",
    "reviews['fresh'].replace('fresh', 1, inplace=True)\n",
    "reviews['fresh'].replace('rotten', 0, inplace=True)\n",
    "reviews['fresh'] = reviews['fresh'].astype(bool)"
   ]
  },
  {
   "cell_type": "code",
   "execution_count": 7,
   "metadata": {},
   "outputs": [],
   "source": [
    "# making the date datetime\n",
    "reviews['date'] = pd.to_datetime(reviews['date'])"
   ]
  },
  {
   "cell_type": "code",
   "execution_count": 8,
   "metadata": {},
   "outputs": [],
   "source": [
    "# cleaning reviews with '/' and '.', pt. 1\n",
    "# to do: make a function\n",
    "reviews.loc[reviews['rating'].str.contains('/5')==True, ['rating_out_of_5']] = True\n",
    "reviews.loc[reviews['rating'].str.contains('/5')==True, ['rating']] = reviews['rating'].str.split('/').str[0]\n",
    "reviews.loc[reviews['rating'].str.contains('/6')==True, ['rating_out_of_6']] = True\n",
    "reviews.loc[reviews['rating'].str.contains('/6')==True, ['rating']] = reviews['rating'].str.split('/').str[0]\n",
    "reviews.loc[reviews['rating'].str.contains('/4')==True, ['rating_out_of_4']] = True\n",
    "reviews.loc[reviews['rating'].str.contains('/4')==True, ['rating']] = reviews['rating'].str.split('/').str[0]\n",
    "reviews.loc[reviews['rating'].str.contains('/10')==True, ['rating_out_of_10']] = True\n",
    "reviews.loc[reviews['rating'].str.contains('/10')==True, ['rating']] = reviews['rating'].str.split('/').str[0]\n",
    "reviews.loc[reviews['rating'].str.contains('.')==True, ['rating_out_of_10']] = True"
   ]
  },
  {
   "cell_type": "code",
   "execution_count": 9,
   "metadata": {},
   "outputs": [],
   "source": [
    "# manually replacing odd values\n",
    "# todo: make a dictionary\n",
    "reviews['rating'].replace('A+', 1, inplace=True)\n",
    "reviews['rating'].replace('A', 1, inplace=True)\n",
    "reviews['rating'].replace('A-', .95, inplace=True)\n",
    "reviews['rating'].replace('B+', .85, inplace=True)\n",
    "#\n",
    "reviews['rating'].replace('B', .8, inplace=True)\n",
    "reviews['rating'].replace('B-', .75, inplace=True)\n",
    "reviews['rating'].replace('C+', .65, inplace=True)\n",
    "reviews['rating'].replace('C', .6, inplace=True)\n",
    "reviews['rating'].replace('C-', .55, inplace=True)\n",
    "reviews['rating'].replace('D+', .45, inplace=True)\n",
    "reviews['rating'].replace('D', .4, inplace=True)\n",
    "reviews['rating'].replace('D-', .35, inplace=True)\n",
    "reviews['rating'].replace('F+', .25, inplace=True)\n",
    "reviews['rating'].replace('F', .2, inplace=True)\n",
    "reviews['rating'].replace('F-', .15, inplace=True)\n",
    "reviews['rating'].replace(['2.1/2','R','N','T','1-5','3/2'], 'NaN', inplace=True)\n",
    "reviews['rating'].replace('3 1/2', .7, inplace=True)\n",
    "reviews['rating'].replace('6/8', .75, inplace=True)\n",
    "reviews['rating'].replace('2/2', 1, inplace=True)\n",
    "reviews['rating'].replace('1/2', .5, inplace=True)"
   ]
  },
  {
   "cell_type": "code",
   "execution_count": 10,
   "metadata": {},
   "outputs": [],
   "source": [
    "# cleaning reviews with '/' and '.', pt. 2\n",
    "reviews.loc[reviews['rating_out_of_4']==True, ['rating']] = reviews['rating'].astype('float64') / 4\n",
    "reviews.loc[reviews['rating_out_of_5']==True, ['rating']] = reviews['rating'].astype('float64') / 5\n",
    "reviews.loc[reviews['rating_out_of_6']==True, ['rating']] = reviews['rating'].astype('float64') / 6\n",
    "reviews.loc[reviews['rating_out_of_10']==True, ['rating']] = reviews['rating'].astype('float64') / 10\n",
    "reviews.drop(['rating_out_of_4','rating_out_of_5','rating_out_of_6','rating_out_of_10'],axis=1,inplace=True)"
   ]
  },
  {
   "cell_type": "code",
   "execution_count": 11,
   "metadata": {},
   "outputs": [],
   "source": [
    "# making rating a float\n",
    "reviews['rating'] = reviews['rating'].astype('float64')"
   ]
  },
  {
   "cell_type": "markdown",
   "metadata": {},
   "source": [
    "#### tmdb"
   ]
  },
  {
   "cell_type": "code",
   "execution_count": 12,
   "metadata": {},
   "outputs": [],
   "source": [
    "# getting rid of unnecessary column\n",
    "tmdb.drop('Unnamed: 0', axis=1, inplace=True)"
   ]
  },
  {
   "cell_type": "code",
   "execution_count": 13,
   "metadata": {},
   "outputs": [],
   "source": [
    "# making release date datetime\n",
    "tmdb['release_date'] = pd.to_datetime(tmdb['release_date'])"
   ]
  },
  {
   "cell_type": "code",
   "execution_count": 14,
   "metadata": {},
   "outputs": [],
   "source": [
    "#same units for rating \n",
    "tmdb['vote_average'] = tmdb['vote_average']/10"
   ]
  },
  {
   "cell_type": "markdown",
   "metadata": {},
   "source": [
    "#### Budgets"
   ]
  },
  {
   "cell_type": "code",
   "execution_count": 15,
   "metadata": {},
   "outputs": [],
   "source": [
    "# making release_date datetime\n",
    "budgets['release_date'] = pd.to_datetime(budgets['release_date'])"
   ]
  },
  {
   "cell_type": "code",
   "execution_count": 16,
   "metadata": {},
   "outputs": [],
   "source": [
    "# removing '$' and ',' from money variables\n",
    "budgets['production_budget'] = budgets['production_budget'].replace('[$,]', '', regex=True).astype(int)\n",
    "budgets['domestic_gross'] = budgets['domestic_gross'].replace('[$,]', '', regex=True).astype(int)\n",
    "budgets['worldwide_gross'] = budgets['worldwide_gross'].replace('[$,]', '', regex=True).astype('int64')"
   ]
  },
  {
   "cell_type": "markdown",
   "metadata": {},
   "source": [
    "#### Movie Basics"
   ]
  },
  {
   "cell_type": "code",
   "execution_count": 17,
   "metadata": {},
   "outputs": [],
   "source": [
    "#making the id an int\n",
    "movie_basics['movie_id'] = movie_basics['movie_id'].str.split('tt').str[1]\n",
    "movie_basics['movie_id'] = movie_basics['movie_id'].astype(int)"
   ]
  },
  {
   "cell_type": "markdown",
   "metadata": {},
   "source": [
    "#### Movie Ratings"
   ]
  },
  {
   "cell_type": "code",
   "execution_count": 18,
   "metadata": {},
   "outputs": [],
   "source": [
    "#making the id an int\n",
    "movie_ratings['movie_id'] = movie_ratings['movie_id'].str.split('tt').str[1]\n",
    "movie_ratings['movie_id'] = movie_ratings['movie_id'].astype(int)"
   ]
  },
  {
   "cell_type": "markdown",
   "metadata": {},
   "source": [
    "## 3. Making Useful Dataframes"
   ]
  },
  {
   "cell_type": "markdown",
   "metadata": {},
   "source": [
    "#### Movie Genres"
   ]
  },
  {
   "cell_type": "code",
   "execution_count": 19,
   "metadata": {},
   "outputs": [],
   "source": [
    "# Creating a list of all genres\n",
    "#info\n",
    "info_genres = list(info['genre'].str.split('|'))\n",
    "info_genres = [x for x in info_genres if str(x) != 'nan']\n",
    "info_genres = [item for sublist in info_genres for item in sublist]\n",
    "info_genres = list(set(info_genres))\n",
    "\n",
    "#movie_basics\n",
    "movie_basics_genres = list(movie_basics['genres'].str.split(','))\n",
    "movie_basics_genres = [x for x in movie_basics_genres if str(x) != 'None']\n",
    "movie_basics_genres = [item for sublist in movie_basics_genres for item in sublist]\n",
    "movie_basics_genres = list(set(movie_basics_genres))\n",
    "\n",
    "#concat\n",
    "genres = list(set(movie_basics_genres + info_genres))"
   ]
  },
  {
   "cell_type": "code",
   "execution_count": 20,
   "metadata": {},
   "outputs": [],
   "source": [
    "#matching values between the two lists\n",
    "genres_dict = {\n",
    "    'Reality-TV':'TV Show',\n",
    "    'Art House and International':'Art',\n",
    "    'Romance':'Romance',\n",
    "    'Comedy':'Comedy',\n",
    "    'Music':'Music',\n",
    "    'Special Interest':'Special Interest',\n",
    "    'Adult':'Adult',\n",
    "    'Game-Show':'TV Show',\n",
    "    'Mystery':'Mystery and Suspense',\n",
    "    'Fantasy':'Science Fiction and Fantasy',\n",
    "    'Family':'Kids and Family',\n",
    "    'Crime':'Mystery and Suspense',\n",
    "    'Sport':'Sports and Fitness',\n",
    "    'Short':'Shorts',\n",
    "    'Television':'TV Show',\n",
    "    'Sports and Fitness':'Sports and Fitness',\n",
    "    'Mystery and Suspense':'Mystery and Suspense',\n",
    "    'Action':'Action and Adventure',\n",
    "    'Drama':'Drama',\n",
    "    'Horror':'Horror',\n",
    "    'Sci-Fi':'Science Fiction and Fantasy',\n",
    "    'Talk-Show':'TV Show',\n",
    "    'Action and Adventure':'Action and Adventure',\n",
    "    'Musical':'Music',\n",
    "    'Documentary':'Documentary',\n",
    "    'Adventure':'Action and Adventure',\n",
    "    'Faith and Spirituality':'Faith and Spirituality',\n",
    "    'Anime and Manga':'Animation',\n",
    "    'Kids and Family':'Kids and Family',\n",
    "    'War':'Action and Adventure',\n",
    "    'News':'TV Show',\n",
    "    'Classics':'Classic',\n",
    "    'Animation':'Animation',\n",
    "    'Thriller':'Mystery and Suspense',\n",
    "    'Gay and Lesbian':'LGBTQ+',\n",
    "    'Cult Movies':'Classic',\n",
    "    'Science Fiction and Fantasy':'Science Fiction and Fantasy',\n",
    "    'Musical and Performing Arts':'Music',\n",
    "    'Western':'Western',\n",
    "    'History':'History',\n",
    "    'Biography':'Biography',\n",
    "    28:'Action and Adventure',\n",
    "    12:'Action and Adventure',\n",
    "    16:'Animation',\n",
    "    35:'Comedy',\n",
    "    80:'Mystery and Suspense',\n",
    "    99:'Documentary',\n",
    "    18:'Drama',\n",
    "    10751:'Kids and Family',\n",
    "    14:'Science Fiction and Fantasy',\n",
    "    36:'History',\n",
    "    27:'Horror',\n",
    "    10402:'Music',\n",
    "    9648 :'Mystery',\n",
    "    10749:'Romance',\n",
    "    878:'Science Fiction and Fantasy',\n",
    "    10770:'TV Show',\n",
    "    53:'Mystery and Suspense',\n",
    "    10752:'Action and Adventure',\n",
    "    37:'Western'\n",
    "    }"
   ]
  },
  {
   "cell_type": "code",
   "execution_count": 21,
   "metadata": {},
   "outputs": [],
   "source": [
    "movie_genres_info = info[['id','genre']] \n",
    "movie_genres_info = movie_genres_info.set_index('id').apply(lambda x: x.str.split('|').explode()).reset_index()\n",
    "movie_genres_info['genre'] = movie_genres_info['genre'].map(genres_dict)\n",
    "movie_genres_info.drop_duplicates(inplace = True)\n",
    "movie_genres_info['table_match'] = 'info'\n",
    "movie_genres_info.rename(columns= {'id':'movie_id'},inplace = True)\n",
    "#movie_genres_info"
   ]
  },
  {
   "cell_type": "code",
   "execution_count": 22,
   "metadata": {},
   "outputs": [],
   "source": [
    "movie_genres_imdb = movie_basics[['movie_id','genres']] \n",
    "movie_genres_imdb = movie_genres_imdb.set_index('movie_id').apply(lambda x: x.str.split('|').explode()).reset_index()\n",
    "movie_genres_imdb['genres'] = movie_genres_imdb['genres'].map(genres_dict)\n",
    "movie_genres_imdb.drop_duplicates(inplace = True)\n",
    "movie_genres_imdb['table_match'] = 'movie_basics'\n",
    "movie_genres_imdb.rename(columns= {'genres':'genre'},inplace = True)\n",
    "#movie_genres_imdb"
   ]
  },
  {
   "cell_type": "code",
   "execution_count": 23,
   "metadata": {},
   "outputs": [],
   "source": [
    "import ast\n",
    "movie_genres_tmdb = tmdb[['id','genre_ids']]\n",
    "movie_genres_tmdb = movie_genres_tmdb.set_index('id')\n",
    "movie_genres_tmdb = movie_genres_tmdb['genre_ids'].map(lambda x: ast.literal_eval(x)).explode().to_frame().reset_index()\n",
    "movie_genres_tmdb['genre_ids'] = movie_genres_tmdb['genre_ids'].map(genres_dict)\n",
    "movie_genres_tmdb.drop_duplicates(inplace = True)\n",
    "movie_genres_tmdb['table_match'] = 'tmdb'\n",
    "movie_genres_tmdb.rename(columns = {'id':'movie_id','genre_ids':'genre'}, inplace = True)\n",
    "#movie_genres_tmdb"
   ]
  },
  {
   "cell_type": "code",
   "execution_count": 24,
   "metadata": {},
   "outputs": [
    {
     "data": {
      "text/html": [
       "<div>\n",
       "<style scoped>\n",
       "    .dataframe tbody tr th:only-of-type {\n",
       "        vertical-align: middle;\n",
       "    }\n",
       "\n",
       "    .dataframe tbody tr th {\n",
       "        vertical-align: top;\n",
       "    }\n",
       "\n",
       "    .dataframe thead th {\n",
       "        text-align: right;\n",
       "    }\n",
       "</style>\n",
       "<table border=\"1\" class=\"dataframe\">\n",
       "  <thead>\n",
       "    <tr style=\"text-align: right;\">\n",
       "      <th></th>\n",
       "      <th>movie_id</th>\n",
       "      <th>genre</th>\n",
       "      <th>table_match</th>\n",
       "    </tr>\n",
       "  </thead>\n",
       "  <tbody>\n",
       "    <tr>\n",
       "      <th>0</th>\n",
       "      <td>63540</td>\n",
       "      <td>NaN</td>\n",
       "      <td>movie_basics</td>\n",
       "    </tr>\n",
       "    <tr>\n",
       "      <th>1</th>\n",
       "      <td>66787</td>\n",
       "      <td>NaN</td>\n",
       "      <td>movie_basics</td>\n",
       "    </tr>\n",
       "    <tr>\n",
       "      <th>2</th>\n",
       "      <td>69049</td>\n",
       "      <td>Drama</td>\n",
       "      <td>movie_basics</td>\n",
       "    </tr>\n",
       "    <tr>\n",
       "      <th>3</th>\n",
       "      <td>69204</td>\n",
       "      <td>NaN</td>\n",
       "      <td>movie_basics</td>\n",
       "    </tr>\n",
       "    <tr>\n",
       "      <th>4</th>\n",
       "      <td>100275</td>\n",
       "      <td>NaN</td>\n",
       "      <td>movie_basics</td>\n",
       "    </tr>\n",
       "    <tr>\n",
       "      <th>...</th>\n",
       "      <td>...</td>\n",
       "      <td>...</td>\n",
       "      <td>...</td>\n",
       "    </tr>\n",
       "    <tr>\n",
       "      <th>47827</th>\n",
       "      <td>381231</td>\n",
       "      <td>Action and Adventure</td>\n",
       "      <td>tmdb</td>\n",
       "    </tr>\n",
       "    <tr>\n",
       "      <th>47829</th>\n",
       "      <td>366854</td>\n",
       "      <td>Kids and Family</td>\n",
       "      <td>tmdb</td>\n",
       "    </tr>\n",
       "    <tr>\n",
       "      <th>47830</th>\n",
       "      <td>366854</td>\n",
       "      <td>Action and Adventure</td>\n",
       "      <td>tmdb</td>\n",
       "    </tr>\n",
       "    <tr>\n",
       "      <th>47832</th>\n",
       "      <td>309885</td>\n",
       "      <td>Mystery and Suspense</td>\n",
       "      <td>tmdb</td>\n",
       "    </tr>\n",
       "    <tr>\n",
       "      <th>47833</th>\n",
       "      <td>309885</td>\n",
       "      <td>Horror</td>\n",
       "      <td>tmdb</td>\n",
       "    </tr>\n",
       "  </tbody>\n",
       "</table>\n",
       "<p>193909 rows × 3 columns</p>\n",
       "</div>"
      ],
      "text/plain": [
       "       movie_id                 genre   table_match\n",
       "0         63540                   NaN  movie_basics\n",
       "1         66787                   NaN  movie_basics\n",
       "2         69049                 Drama  movie_basics\n",
       "3         69204                   NaN  movie_basics\n",
       "4        100275                   NaN  movie_basics\n",
       "...         ...                   ...           ...\n",
       "47827    381231  Action and Adventure          tmdb\n",
       "47829    366854       Kids and Family          tmdb\n",
       "47830    366854  Action and Adventure          tmdb\n",
       "47832    309885  Mystery and Suspense          tmdb\n",
       "47833    309885                Horror          tmdb\n",
       "\n",
       "[193909 rows x 3 columns]"
      ]
     },
     "execution_count": 24,
     "metadata": {},
     "output_type": "execute_result"
    }
   ],
   "source": [
    "movie_genres = pd.concat([movie_genres_imdb,movie_genres_info,movie_genres_tmdb])\n",
    "movie_genres"
   ]
  },
  {
   "cell_type": "code",
   "execution_count": 25,
   "metadata": {},
   "outputs": [],
   "source": [
    "#removing old genre columns\n",
    "info.drop('genre', axis=1, inplace=True)\n",
    "movie_basics.drop('genres', axis=1, inplace=True)\n",
    "tmdb.drop('genre_ids', axis=1, inplace=True)"
   ]
  },
  {
   "cell_type": "markdown",
   "metadata": {},
   "source": [
    "## 3. Storing"
   ]
  },
  {
   "cell_type": "code",
   "execution_count": 26,
   "metadata": {},
   "outputs": [
    {
     "name": "stdout",
     "output_type": "stream",
     "text": [
      "Stored 'gross' (DataFrame)\n",
      "Stored 'info' (DataFrame)\n",
      "Stored 'reviews' (DataFrame)\n",
      "Stored 'tmdb' (DataFrame)\n",
      "Stored 'budgets' (DataFrame)\n",
      "Stored 'movie_basics' (DataFrame)\n",
      "Stored 'movie_ratings' (DataFrame)\n",
      "Stored 'movie_genres' (DataFrame)\n"
     ]
    }
   ],
   "source": [
    "%store gross\n",
    "%store info\n",
    "%store reviews\n",
    "%store tmdb\n",
    "%store budgets\n",
    "%store movie_basics\n",
    "%store movie_ratings\n",
    "%store movie_genres"
   ]
  }
 ],
 "metadata": {
  "kernelspec": {
   "display_name": "Python 3",
   "language": "python",
   "name": "python3"
  },
  "language_info": {
   "codemirror_mode": {
    "name": "ipython",
    "version": 3
   },
   "file_extension": ".py",
   "mimetype": "text/x-python",
   "name": "python",
   "nbconvert_exporter": "python",
   "pygments_lexer": "ipython3",
   "version": "3.8.5"
  }
 },
 "nbformat": 4,
 "nbformat_minor": 5
}
